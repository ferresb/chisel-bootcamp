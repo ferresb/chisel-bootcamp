{
 "cells": [
  {
   "cell_type": "markdown",
   "metadata": {},
   "source": [
    "<a name=\"top\"></a><img src=\"images/chisel_1024.png\" alt=\"Chisel logo\" style=\"width:480px;\" />"
   ]
  },
  {
   "cell_type": "markdown",
   "metadata": {},
   "source": [
    "# THIS IS A CHISEL DEMONSTRATION FOR TIMA SLS TEAM.\n",
    "# TO EXPERIMENT MORE ABOUT CHISEL, TAKE A LOOK AT [Introduction to Scala](1_intro_to_scala.ipynb)\n",
    "\n",
    "# Chisel Demo\n",
    "**Next: [Introduction à Scala](1_intro_to_scala.ipynb)**\n",
    "\n",
    "Welcome! Perhaps you're an interested student who heard the name \"Chisel\" tossed about, or maybe you're a seasoned hardware design veteran who has been tasked by your manager to explore Chisel as a new HDL alternative. Either way if you are new to Chisel, you want to figure out as fast as possible what all the fuss is about. Look no futher - let's see what Chisel has to offer!\n",
    "\n",
    "## Setup\n",
    "Before we start, we need to download and imports the dependencies needed for the demo. \n",
    "\n",
    "**Please run the following two cell blocks by either pressing SHIFT+ENTER on your keyboard or the Run button in the menu**."
   ]
  },
  {
   "cell_type": "code",
   "execution_count": 1,
   "metadata": {
    "scrolled": false
   },
   "outputs": [
    {
     "data": {
      "text/plain": [
       "\u001b[36mpath\u001b[39m: \u001b[32mString\u001b[39m = \u001b[32m\"/home/ferresb/chisel-bootcamp/source/load-ivy.sc\"\u001b[39m"
      ]
     },
     "execution_count": 1,
     "metadata": {},
     "output_type": "execute_result"
    }
   ],
   "source": [
    "val path = System.getProperty(\"user.dir\") + \"/source/load-ivy.sc\"\n",
    "interp.load.module(ammonite.ops.Path(java.nio.file.FileSystems.getDefault().getPath(path)))"
   ]
  },
  {
   "cell_type": "code",
   "execution_count": 2,
   "metadata": {},
   "outputs": [
    {
     "data": {
      "text/plain": [
       "\u001b[32mimport \u001b[39m\u001b[36mchisel3._\n",
       "\u001b[39m\n",
       "\u001b[32mimport \u001b[39m\u001b[36mchisel3.util._\n",
       "\u001b[39m\n",
       "\u001b[32mimport \u001b[39m\u001b[36mchisel3.experimental._\n",
       "\u001b[39m\n",
       "\u001b[32mimport \u001b[39m\u001b[36mchisel3.iotesters.{ChiselFlatSpec, Driver, PeekPokeTester}\u001b[39m"
      ]
     },
     "execution_count": 2,
     "metadata": {},
     "output_type": "execute_result"
    }
   ],
   "source": [
    "import chisel3._\n",
    "import chisel3.util._\n",
    "import chisel3.experimental._\n",
    "import chisel3.iotesters.{ChiselFlatSpec, Driver, PeekPokeTester}"
   ]
  },
  {
   "cell_type": "markdown",
   "metadata": {
    "collapsed": true
   },
   "source": [
    "## Hardware Generators: Type-Safe Meta-Programming for RTL\n",
    "\n",
    "All hardware description languages support writing single instances of an RTL design - Chisel is no different.\n",
    "In fact, most Verilog/VHDL digital logic designs can be directly transcribed into Chisel!\n",
    "While Chisel provides other awesome features that we will get to, we want to emphasize that users switching to Chisel will retain the exact same degree of control over their design as any other hardware language.\n",
    "\n",
    "Take the following example of a 3-point moving average implemented in the style of a FIR filter.\n",
    "\n",
    "<img src=\"https://raw.githubusercontent.com/freechipsproject/chisel3/master/doc/images/fir_filter.svg?sanitize=true\" width=\"512\" />\n",
    "\n",
    "Chisel provides similar base primitives as synthesizable Verilog and *can* be used as such! Run next cell to declare our Chisel module."
   ]
  },
  {
   "cell_type": "code",
   "execution_count": 3,
   "metadata": {},
   "outputs": [
    {
     "data": {
      "text/plain": [
       "defined \u001b[32mclass\u001b[39m \u001b[36mMovingAverage3\u001b[39m"
      ]
     },
     "execution_count": 3,
     "metadata": {},
     "output_type": "execute_result"
    }
   ],
   "source": [
    "// 3-point moving average implemented in the style of a FIR filter\n",
    "class MovingAverage3(bitWidth: Int) extends Module {\n",
    "  val io = IO(new Bundle {\n",
    "    val in = Input(UInt(bitWidth.W))\n",
    "    val out = Output(UInt(bitWidth.W))\n",
    "  })\n",
    "\n",
    "  val z1 = RegNext(io.in) // Create a register whose input is connected to the argument io.in\n",
    "  val z2 = RegNext(z1)    // Create a register whose input is connected to the argument z1\n",
    "\n",
    "  io.out := (io.in * 1.U) + (z1 * 1.U) + (z2 * 1.U) // `1.U` is an unsigned literal with value 1\n",
    "}"
   ]
  },
  {
   "cell_type": "markdown",
   "metadata": {},
   "source": [
    "After defining `class MovingAverage3`, let's instantiate it and take a look at its structure:"
   ]
  },
  {
   "cell_type": "code",
   "execution_count": 4,
   "metadata": {
    "scrolled": true
   },
   "outputs": [
    {
     "name": "stdout",
     "output_type": "stream",
     "text": [
      "[\u001b[35minfo\u001b[0m] [0.002] Elaborating design...\n",
      "[\u001b[35minfo\u001b[0m] [0.564] Done elaborating.\n",
      "creating dot file build/MovingAverage3.dot\n",
      "print file closed 152 lines printed\n"
     ]
    },
    {
     "data": {
      "text/html": [
       "<a name=\"top\"></a><img src=\" build/MovingAverage368251718.dot.svg\" alt=\"Module View\";\" />"
      ]
     },
     "metadata": {},
     "output_type": "display_data"
    }
   ],
   "source": [
    "// same 3-point moving average filter as before\n",
    "visualize(() => new MovingAverage3(8))"
   ]
  },
  {
   "cell_type": "markdown",
   "metadata": {},
   "source": [
    "In this visualization of the Chisel instance, the inputs on the left, and the z1 and z2 registers in gold. Both registers and io_in are multiplied by their coefficients and which are then added successively. The `tail` and `bits` elements are used to keep the additions from growing.\n",
    "\n",
    "You may now ask: \"Oh well and good - you can do stuff in Verilog in Chisel, but then why would I want to use Chisel?\"\n",
    "\n",
    "We are so glad you asked! The real power of Chisel comes from the ability to create **generators, not instances**. Suppose instead of only a `MovingAverage3` module, we wanted to create a generic `FIRFilter` module that is parameterized by a list of coefficients.\n",
    "\n",
    "Below we have rewritten `MovingAverage3` to accept into a sequence of coefficients. The number of coefficients will determine the size of the filter."
   ]
  },
  {
   "cell_type": "code",
   "execution_count": 5,
   "metadata": {},
   "outputs": [
    {
     "data": {
      "text/plain": [
       "defined \u001b[32mclass\u001b[39m \u001b[36mFirFilter\u001b[39m"
      ]
     },
     "execution_count": 5,
     "metadata": {},
     "output_type": "execute_result"
    }
   ],
   "source": [
    "// Generalized FIR filter parameterized by the convolution coefficients\n",
    "class FirFilter(bitWidth: Int, coeffs: Seq[Int], bin: Boolean=true) extends Module {\n",
    "  val io = IO(new Bundle {\n",
    "    val in = Input(UInt(bitWidth.W))\n",
    "    val out = Output(UInt(bitWidth.W))\n",
    "  })\n",
    "  // Create the serial-in, parallel-out shift register\n",
    "  val zs = Reg(Vec(coeffs.length, UInt(bitWidth.W)))\n",
    "  zs(0) := io.in\n",
    "  for (i <- 1 until coeffs.length) {\n",
    "    zs(i) := zs(i-1)\n",
    "  }\n",
    "\n",
    "  // Do the multiplies\n",
    "  val products = VecInit.tabulate(coeffs.length)(i => zs(i) * coeffs(i).U)\n",
    "\n",
    "  // Sum up the products\n",
    "  if (bin) {  io.out := products.reduceTree(_ +& _) }\n",
    "  else { io.out := products.reduce(_ +& _) }\n",
    "}"
   ]
  },
  {
   "cell_type": "markdown",
   "metadata": {},
   "source": [
    "Now by changing our `coeffs` parameters during instantiation, our `FIRFilter` module can be used to instantiate an endless number of different hardware modules! Below we create the exact same moving average, but in a generic way !"
   ]
  },
  {
   "cell_type": "code",
   "execution_count": 6,
   "metadata": {
    "scrolled": true
   },
   "outputs": [
    {
     "name": "stdout",
     "output_type": "stream",
     "text": [
      "[\u001b[35minfo\u001b[0m] [0.000] Elaborating design...\n",
      "[\u001b[35minfo\u001b[0m] [0.044] Done elaborating.\n",
      "creating dot file build/FirFilter.dot\n",
      "print file closed 148 lines printed\n"
     ]
    },
    {
     "data": {
      "text/html": [
       "<a name=\"top\"></a><img src=\" build/FirFilter695a9ced.dot.svg\" alt=\"Module View\";\" />"
      ]
     },
     "metadata": {},
     "output_type": "display_data"
    }
   ],
   "source": [
    "// same 3-point moving average filter as before\n",
    "visualize(() => new FirFilter(8, Seq.fill(3)(1)))"
   ]
  },
  {
   "cell_type": "markdown",
   "metadata": {},
   "source": [
    "## Built-in constructs\n",
    "We can also create two different instances of `FIRFilter`, using a binary reduce tree, or a linear one, with the constructs embedded in Chisel. Here, we show the difference between `reduce` and `reduceTree`, as well as the ease one can evolve its design to match constraints."
   ]
  },
  {
   "cell_type": "code",
   "execution_count": 7,
   "metadata": {
    "scrolled": true
   },
   "outputs": [
    {
     "name": "stdout",
     "output_type": "stream",
     "text": [
      "[\u001b[35minfo\u001b[0m] [0.000] Elaborating design...\n",
      "[\u001b[35minfo\u001b[0m] [0.009] Done elaborating.\n",
      "creating dot file build/FirFilter.dot\n",
      "print file closed 383 lines printed\n"
     ]
    },
    {
     "data": {
      "text/html": [
       "<a name=\"top\"></a><img src=\" build/FirFiltera671cbd0.dot.svg\" alt=\"Module View\";\" />"
      ]
     },
     "metadata": {},
     "output_type": "display_data"
    },
    {
     "name": "stdout",
     "output_type": "stream",
     "text": [
      "[\u001b[35minfo\u001b[0m] [0.000] Elaborating design...\n",
      "[\u001b[35minfo\u001b[0m] [0.036] Done elaborating.\n",
      "creating dot file build/FirFilter.dot\n",
      "print file closed 449 lines printed\n"
     ]
    },
    {
     "data": {
      "text/html": [
       "<a name=\"top\"></a><img src=\" build/FirFilter9518c956.dot.svg\" alt=\"Module View\";\" />"
      ]
     },
     "metadata": {},
     "output_type": "display_data"
    }
   ],
   "source": [
    "// same 8 coeffs filter, with and with binary reduce tree\n",
    "visualize(() => new FirFilter(8, Seq.tabulate(8)(x => x%4), true))\n",
    "visualize(() => new FirFilter(8, Seq.tabulate(8)(x => x%4), false))"
   ]
  },
  {
   "cell_type": "markdown",
   "metadata": {},
   "source": [
    "## Type Genericity using Chisel\n",
    "You can also change the **type** of samples in your design, to make a generic FIR filter on any type (here implementing the *Num[T]* trait, i.e. the +, \\*, -, ... operations), with any number of coefficients."
   ]
  },
  {
   "cell_type": "code",
   "execution_count": 8,
   "metadata": {
    "scrolled": false
   },
   "outputs": [
    {
     "data": {
      "text/plain": [
       "defined \u001b[32mclass\u001b[39m \u001b[36mGenFirFilter\u001b[39m"
      ]
     },
     "execution_count": 8,
     "metadata": {},
     "output_type": "execute_result"
    }
   ],
   "source": [
    "// Generalized FIR filter parameterized by the convolution coefficients AND the type of elements !\n",
    "class GenFirFilter[T <: Data with Num[T]](gen: T, coeffs: Seq[Int]) extends Module {\n",
    "  val io = IO(new Bundle {\n",
    "    val in = Input(gen.cloneType)\n",
    "    val out = Output(gen.cloneType)\n",
    "  })\n",
    "  // Create the serial-in, parallel-out shift register\n",
    "  val zs = Reg(Vec(coeffs.length, gen.cloneType))\n",
    "  zs(0) := io.in\n",
    "  for (i <- 1 until coeffs.length) {\n",
    "    zs(i) := zs(i-1)\n",
    "  }\n",
    "\n",
    "  // Do the multiplies\n",
    "  val products = VecInit.tabulate(coeffs.length)(i => zs(i) * coeffs(i).S.asTypeOf(gen))\n",
    "\n",
    "  // Sum up the products\n",
    "  io.out := products.reduceTree(_ + _)\n",
    "}"
   ]
  },
  {
   "cell_type": "markdown",
   "metadata": {},
   "source": [
    "This way, you can define multiple hardware from the same description"
   ]
  },
  {
   "cell_type": "code",
   "execution_count": 9,
   "metadata": {
    "scrolled": true
   },
   "outputs": [
    {
     "name": "stdout",
     "output_type": "stream",
     "text": [
      "[\u001b[35minfo\u001b[0m] [0.000] Elaborating design...\n",
      "[\u001b[35minfo\u001b[0m] [0.017] Done elaborating.\n",
      "creating dot file build/GenFirFilter.dot\n",
      "print file closed 219 lines printed\n"
     ]
    },
    {
     "data": {
      "text/html": [
       "<a name=\"top\"></a><img src=\" build/GenFirFilter914c097.dot.svg\" alt=\"Module View\";\" />"
      ]
     },
     "metadata": {},
     "output_type": "display_data"
    },
    {
     "name": "stdout",
     "output_type": "stream",
     "text": [
      "[\u001b[35minfo\u001b[0m] [0.000] Elaborating design...\n",
      "[\u001b[35minfo\u001b[0m] [0.007] Done elaborating.\n",
      "creating dot file build/GenFirFilter.dot\n",
      "print file closed 263 lines printed\n"
     ]
    },
    {
     "data": {
      "text/html": [
       "<a name=\"top\"></a><img src=\" build/GenFirFiltera0c5df3e.dot.svg\" alt=\"Module View\";\" />"
      ]
     },
     "metadata": {},
     "output_type": "display_data"
    },
    {
     "name": "stdout",
     "output_type": "stream",
     "text": [
      "[\u001b[35minfo\u001b[0m] [0.000] Elaborating design...\n",
      "[\u001b[35minfo\u001b[0m] [0.057] Done elaborating.\n",
      "creating dot file build/GenFirFilter.dot\n",
      "print file closed 277 lines printed\n"
     ]
    },
    {
     "data": {
      "text/html": [
       "<a name=\"top\"></a><img src=\" build/GenFirFilterf64e59db.dot.svg\" alt=\"Module View\";\" />"
      ]
     },
     "metadata": {},
     "output_type": "display_data"
    }
   ],
   "source": [
    "// Generic FIR filter, on 8 bit unsigned numbers, 12 bits signed numbers and 16 bits fixed point numbers\n",
    "visualize(() => new GenFirFilter(UInt(8.W), Seq.tabulate(4)(x => x%4)))\n",
    "visualize(() => new GenFirFilter(SInt(12.W), Seq.tabulate(4)(x => x%4)))\n",
    "visualize(() => new GenFirFilter(FixedPoint(16.W, 8.BP), Seq.tabulate(4)(x => x%4)))"
   ]
  },
  {
   "cell_type": "markdown",
   "metadata": {},
   "source": [
    "Without this powerful parameterization, we would need many more module definitions, likely one for each of these FIR filters. Ideally, we want our generators to be (1) composable, (2) powerful, and (3) enable fine-grained control over the generated design.\n",
    "\n",
    "The benefits of Chisel are in how you use it, not in the language itself.\n",
    "If you decide to write instances instead of generators, you will see fewer advantages of Chisel over Verilog.\n",
    "But if you take the time to learn how to write generators, then the power of Chisel will become apparent and you will realize you can never go back to writing Verilog.\n",
    "Learning to write generators is difficult, but we hope this tutorial will pave the way for you to become a better hardware designer, programmer, and thinker!"
   ]
  },
  {
   "cell_type": "markdown",
   "metadata": {},
   "source": [
    "## Testing using Chisel\n",
    "Indeed, easing hardware development is not enough to be broadly accepted as a replacement for usual RTL, such as VHDL, Verilog or SystemVerilog.\n",
    "We need to be able to test our designs, still benefying from Chisel genericity, and from Scala features to build design verification."
   ]
  },
  {
   "cell_type": "markdown",
   "metadata": {},
   "source": [
    "First of all, we need to design a software implementation of the algorithm, for comparison and validation purpose."
   ]
  },
  {
   "cell_type": "code",
   "execution_count": 10,
   "metadata": {
    "scrolled": false
   },
   "outputs": [
    {
     "data": {
      "text/plain": [
       "defined \u001b[32mclass\u001b[39m \u001b[36mSoftFirFilter\u001b[39m"
      ]
     },
     "execution_count": 10,
     "metadata": {},
     "output_type": "execute_result"
    }
   ],
   "source": [
    "// Software FIR filter\n",
    "class SoftFirFilter(samples: Seq[Int], coeffs: Seq[Int]) {\n",
    "    private val buffer = Array.fill(coeffs.length)(0)\n",
    "    private var index  = 0\n",
    "    \n",
    "    private def slideWindow: Unit= {\n",
    "        for (i <- buffer.length - 1 to 1 by -1){\n",
    "            buffer(i) = buffer(i-1)\n",
    "        }\n",
    "        buffer(0) = if (index < samples.length) { samples(index) } else { 0 }\n",
    "        index = index + 1\n",
    "    }\n",
    "    \n",
    "    private def apply: Int = {\n",
    "        slideWindow\n",
    "        (buffer zip coeffs).map{case (s, c) => s*c}.reduce(_+_)\n",
    "    }\n",
    "    \n",
    "    def compute: Seq[Int] = {\n",
    "        samples.map(_ => apply) ++ coeffs.map(_ => apply)\n",
    "    }\n",
    "}"
   ]
  },
  {
   "cell_type": "markdown",
   "metadata": {},
   "source": [
    "Then, we can design multiple testers for our design, with different sets of parameters"
   ]
  },
  {
   "cell_type": "code",
   "execution_count": 11,
   "metadata": {
    "scrolled": false
   },
   "outputs": [
    {
     "data": {
      "text/plain": [
       "\u001b[32mimport \u001b[39m\u001b[36morg.scalatest._\n",
       "\u001b[39m\n",
       "\u001b[32mimport \u001b[39m\u001b[36mchiseltest._\n",
       "\n",
       "\u001b[39m\n",
       "defined \u001b[32mclass\u001b[39m \u001b[36mIntFIRSpec\u001b[39m"
      ]
     },
     "execution_count": 11,
     "metadata": {},
     "output_type": "execute_result"
    }
   ],
   "source": [
    "import org.scalatest._\n",
    "import chiseltest._\n",
    "\n",
    "class IntFIRSpec extends FlatSpec with ChiselScalatestTester with Matchers {\n",
    "    behavior of \"Testers2\"\n",
    "    \n",
    "    implicit val debugEnabled = true\n",
    "    \n",
    "    private def runUInt(c: GenFirFilter[UInt], samples: Seq[Int], coeffs: Seq[Int]) = {\n",
    "        val ref = new SoftFirFilter(samples, coeffs).compute\n",
    "        debug(s\"Golden reference is : $ref\")\n",
    "        for(i <- 0 until samples.length) {\n",
    "            c.io.in.poke(samples(i).U)\n",
    "            c.clock.step(1)\n",
    "            c.io.out.expect(ref(i).U)\n",
    "           debug(s\"Poked ${samples(i)}, expected ${ref(i)}, got ${c.io.out.peek}\")\n",
    "           }\n",
    "        // Empty filter\n",
    "        c.io.in.poke(0.U)\n",
    "        for (i <- 0 until coeffs.length) {\n",
    "            c.clock.step(1)\n",
    "            c.io.out.expect(ref(samples.length+i).U)\n",
    "            debug(s\"Poked 0, expected ${ref(samples.length+i)}, got ${c.io.out.peek}\")\n",
    "        }\n",
    "    }\n",
    "    \n",
    "    it should \"respond correctly to a software dirac with UInt values\" in {\n",
    "        val triangle = Seq(1, 2, 3, 2, 1)\n",
    "        val dirac = Seq(1, 0, 0, 0, 0)\n",
    "        test(new GenFirFilter(UInt(32.W), triangle)){\n",
    "            c => runUInt(c, dirac, triangle)\n",
    "        }\n",
    "    }\n",
    "    \n",
    "    it should \"respond correctly to a software step with UInt values\" in {\n",
    "        val triangle = Seq(1, 2, 3, 2, 1)\n",
    "        val step = Seq(0, 1, 1, 1, 1, 1, 1)\n",
    "        test(new GenFirFilter(UInt(32.W), triangle)){\n",
    "            c => runUInt(c, step, triangle)\n",
    "        }\n",
    "    }\n",
    "    \n",
    "    private def runSInt(c: GenFirFilter[SInt], samples: Seq[Int], coeffs: Seq[Int]) = {\n",
    "        val ref = new SoftFirFilter(samples, coeffs).compute\n",
    "        debug(s\"Golden reference is : $ref\")\n",
    "        for(i <- 0 until samples.length) {\n",
    "            c.io.in.poke(samples(i).S)\n",
    "            c.clock.step(1)\n",
    "            c.io.out.expect(ref(i).S)\n",
    "           debug(s\"Poked ${samples(i)}, expected ${ref(i)}, got ${c.io.out.peek}\")\n",
    "           }\n",
    "        // Empty filter\n",
    "        c.io.in.poke(0.S)\n",
    "        for (i <- 0 until coeffs.length) {\n",
    "            c.clock.step(1)\n",
    "            c.io.out.expect(ref(samples.length+i).S)\n",
    "            debug(s\"Poked 0, expected ${ref(samples.length+i)}, got ${c.io.out.peek}\")\n",
    "        }\n",
    "    }\n",
    "    \n",
    "    it should \"respond correctly to a random signed values\" in {\n",
    "        val r = scala.util.Random\n",
    "        val coeffs = Seq.fill(10)(r.nextInt(10)-r.nextInt(10))\n",
    "        val samples = Seq.fill(100)(r.nextInt(10)-r.nextInt(10))\n",
    "        test(new GenFirFilter(SInt(32.W), coeffs)){\n",
    "            c => runSInt(c, samples, coeffs)\n",
    "        }\n",
    "    }\n",
    "    \n",
    "    it should \"fail, to show you how it is !\" in {\n",
    "        test(new GenFirFilter(UInt(32.W), Seq(1, 2))){\n",
    "            c => c.io.out.expect(4.U)\n",
    "        }\n",
    "    }\n",
    "}"
   ]
  },
  {
   "cell_type": "code",
   "execution_count": 12,
   "metadata": {
    "scrolled": false
   },
   "outputs": [
    {
     "name": "stdout",
     "output_type": "stream",
     "text": [
      "\u001b[32mcmd10$Helper$IntFIRSpec:\u001b[0m\n",
      "\u001b[32mTesters2\u001b[0m\n",
      "[\u001b[35minfo\u001b[0m] [0.000] Elaborating design...\n",
      "[\u001b[35minfo\u001b[0m] [0.056] Done elaborating.\n",
      "Computed transform order in: 70.9 ms\n",
      "Total FIRRTL Compile Time: 59.1 ms\n",
      "file loaded in 0.091041396 seconds, 28 symbols, 25 statements\n",
      "Golden reference is : List(1, 2, 3, 2, 1, 0, 0, 0, 0, 0)\n",
      "Poked 1, expected 1, got UInt<32>(1)\n",
      "Poked 0, expected 2, got UInt<32>(2)\n",
      "Poked 0, expected 3, got UInt<32>(3)\n",
      "Poked 0, expected 2, got UInt<32>(2)\n",
      "Poked 0, expected 1, got UInt<32>(1)\n",
      "Poked 0, expected 0, got UInt<32>(0)\n",
      "Poked 0, expected 0, got UInt<32>(0)\n",
      "Poked 0, expected 0, got UInt<32>(0)\n",
      "Poked 0, expected 0, got UInt<32>(0)\n",
      "Poked 0, expected 0, got UInt<32>(0)\n",
      "test GenFirFilter Success: 0 tests passed in 12 cycles in 0.119366 seconds 100.53 Hz\n",
      "\u001b[32m- should respond correctly to a software dirac with UInt values\u001b[0m\n",
      "[\u001b[35minfo\u001b[0m] [0.000] Elaborating design...\n",
      "[\u001b[35minfo\u001b[0m] [0.059] Done elaborating.\n",
      "Computed transform order in: 71.0 ms\n",
      "Total FIRRTL Compile Time: 44.3 ms\n",
      "file loaded in 0.00290642 seconds, 28 symbols, 25 statements\n",
      "Golden reference is : List(0, 1, 3, 6, 8, 9, 9, 8, 6, 3, 1, 0)\n",
      "Poked 0, expected 0, got UInt<32>(0)\n",
      "Poked 1, expected 1, got UInt<32>(1)\n",
      "Poked 1, expected 3, got UInt<32>(3)\n",
      "Poked 1, expected 6, got UInt<32>(6)\n",
      "Poked 1, expected 8, got UInt<32>(8)\n",
      "Poked 1, expected 9, got UInt<32>(9)\n",
      "Poked 1, expected 9, got UInt<32>(9)\n",
      "Poked 0, expected 8, got UInt<32>(8)\n",
      "Poked 0, expected 6, got UInt<32>(6)\n",
      "Poked 0, expected 3, got UInt<32>(3)\n",
      "Poked 0, expected 1, got UInt<32>(1)\n",
      "Poked 0, expected 0, got UInt<32>(0)\n",
      "test GenFirFilter Success: 0 tests passed in 14 cycles in 0.036305 seconds 385.62 Hz\n",
      "\u001b[32m- should respond correctly to a software step with UInt values\u001b[0m\n",
      "[\u001b[35minfo\u001b[0m] [0.000] Elaborating design...\n",
      "[\u001b[35minfo\u001b[0m] [0.048] Done elaborating.\n",
      "Computed transform order in: 78.9 ms\n",
      "Total FIRRTL Compile Time: 58.1 ms\n",
      "file loaded in 0.009689184 seconds, 63 symbols, 60 statements\n",
      "Golden reference is : List(45, -7, -20, 57, -5, 37, -32, 36, 41, 21, -59, -24, -19, -99, 5, -75, 35, 39, 123, 22, 0, 19, 64, 8, -132, -29, 56, -25, -132, 64, 83, -41, 31, -14, -3, -21, -94, -8, -71, 86, 141, 59, -11, 135, -90, -181, -96, 18, 76, 42, 68, 67, 47, -33, -148, -5, 4, -14, -20, 17, -95, 33, -18, 2, 39, 105, 102, -40, -28, 99, -46, -6, -6, -64, -156, 78, -76, -16, 91, 143, -49, -56, -15, -30, -44, 12, 86, 15, 13, 99, -105, -14, -5, -36, -56, 95, -41, 92, 71, 23, -57, -68, -9, -14, -37, -34, 35, 19, 42, 0)\n",
      "Poked -5, expected 45, got SInt<32>(45)\n",
      "Poked 3, expected -7, got SInt<32>(-7)\n",
      "Poked -3, expected -20, got SInt<32>(-20)\n",
      "Poked -1, expected 57, got SInt<32>(57)\n",
      "Poked -4, expected -5, got SInt<32>(-5)\n",
      "Poked -5, expected 37, got SInt<32>(37)\n",
      "Poked 1, expected -32, got SInt<32>(-32)\n",
      "Poked -6, expected 36, got SInt<32>(36)\n",
      "Poked -4, expected 41, got SInt<32>(41)\n",
      "Poked -7, expected 21, got SInt<32>(21)\n",
      "Poked 1, expected -59, got SInt<32>(-59)\n",
      "Poked -3, expected -24, got SInt<32>(-24)\n",
      "Poked 4, expected -19, got SInt<32>(-19)\n",
      "Poked 0, expected -99, got SInt<32>(-99)\n",
      "Poked 1, expected 5, got SInt<32>(5)\n",
      "Poked 3, expected -75, got SInt<32>(-75)\n",
      "Poked 2, expected 35, got SInt<32>(35)\n",
      "Poked 1, expected 39, got SInt<32>(39)\n",
      "Poked -5, expected 123, got SInt<32>(123)\n",
      "Poked 0, expected 22, got SInt<32>(22)\n",
      "Poked 1, expected 0, got SInt<32>(0)\n",
      "Poked 0, expected 19, got SInt<32>(19)\n",
      "Poked -7, expected 64, got SInt<32>(64)\n",
      "Poked -3, expected 8, got SInt<32>(8)\n",
      "Poked 5, expected -132, got SInt<32>(-132)\n",
      "Poked 2, expected -29, got SInt<32>(-29)\n",
      "Poked -4, expected 56, got SInt<32>(56)\n",
      "Poked 1, expected -25, got SInt<32>(-25)\n",
      "Poked 5, expected -132, got SInt<32>(-132)\n",
      "Poked -3, expected 64, got SInt<32>(64)\n",
      "Poked 1, expected 83, got SInt<32>(83)\n",
      "Poked 2, expected -41, got SInt<32>(-41)\n",
      "Poked -2, expected 31, got SInt<32>(31)\n",
      "Poked 5, expected -14, got SInt<32>(-14)\n",
      "Poked -4, expected -3, got SInt<32>(-3)\n",
      "Poked 9, expected -21, got SInt<32>(-21)\n",
      "Poked 3, expected -94, got SInt<32>(-94)\n",
      "Poked 6, expected -8, got SInt<32>(-8)\n",
      "Poked 7, expected -71, got SInt<32>(-71)\n",
      "Poked -6, expected 86, got SInt<32>(86)\n",
      "Poked -7, expected 141, got SInt<32>(141)\n",
      "Poked 2, expected 59, got SInt<32>(59)\n",
      "Poked 0, expected -11, got SInt<32>(-11)\n",
      "Poked -3, expected 135, got SInt<32>(135)\n",
      "Poked 0, expected -90, got SInt<32>(-90)\n",
      "Poked 4, expected -181, got SInt<32>(-181)\n",
      "Poked 4, expected -96, got SInt<32>(-96)\n",
      "Poked -2, expected 18, got SInt<32>(18)\n",
      "Poked -4, expected 76, got SInt<32>(76)\n",
      "Poked -2, expected 42, got SInt<32>(42)\n",
      "Poked -5, expected 68, got SInt<32>(68)\n",
      "Poked 0, expected 67, got SInt<32>(67)\n",
      "Poked -8, expected 47, got SInt<32>(47)\n",
      "Poked 2, expected -33, got SInt<32>(-33)\n",
      "Poked 1, expected -148, got SInt<32>(-148)\n",
      "Poked -2, expected -5, got SInt<32>(-5)\n",
      "Poked -3, expected 4, got SInt<32>(4)\n",
      "Poked 0, expected -14, got SInt<32>(-14)\n",
      "Poked -1, expected -20, got SInt<32>(-20)\n",
      "Poked 7, expected 17, got SInt<32>(17)\n",
      "Poked 5, expected -95, got SInt<32>(-95)\n",
      "Poked 1, expected 33, got SInt<32>(33)\n",
      "Poked 0, expected -18, got SInt<32>(-18)\n",
      "Poked 1, expected 2, got SInt<32>(2)\n",
      "Poked 3, expected 39, got SInt<32>(39)\n",
      "Poked -1, expected 105, got SInt<32>(105)\n",
      "Poked -7, expected 102, got SInt<32>(102)\n",
      "Poked 5, expected -40, got SInt<32>(-40)\n",
      "Poked -8, expected -28, got SInt<32>(-28)\n",
      "Poked -2, expected 99, got SInt<32>(99)\n",
      "Poked -4, expected -46, got SInt<32>(-46)\n",
      "Poked -2, expected -6, got SInt<32>(-6)\n",
      "Poked -5, expected -6, got SInt<32>(-6)\n",
      "Poked 6, expected -64, got SInt<32>(-64)\n",
      "Poked 3, expected -156, got SInt<32>(-156)\n",
      "Poked -2, expected 78, got SInt<32>(78)\n",
      "Poked 2, expected -76, got SInt<32>(-76)\n",
      "Poked 2, expected -16, got SInt<32>(-16)\n",
      "Poked -4, expected 91, got SInt<32>(91)\n",
      "Poked -3, expected 143, got SInt<32>(143)\n",
      "Poked 4, expected -49, got SInt<32>(-49)\n",
      "Poked 6, expected -56, got SInt<32>(-56)\n",
      "Poked 1, expected -15, got SInt<32>(-15)\n",
      "Poked 1, expected -30, got SInt<32>(-30)\n",
      "Poked 0, expected -44, got SInt<32>(-44)\n",
      "Poked 2, expected 12, got SInt<32>(12)\n",
      "Poked -3, expected 86, got SInt<32>(86)\n",
      "Poked 8, expected 15, got SInt<32>(15)\n",
      "Poked -7, expected 13, got SInt<32>(13)\n",
      "Poked -3, expected 99, got SInt<32>(99)\n",
      "Poked 1, expected -105, got SInt<32>(-105)\n",
      "Poked 2, expected -14, got SInt<32>(-14)\n",
      "Poked 2, expected -5, got SInt<32>(-5)\n",
      "Poked 4, expected -36, got SInt<32>(-36)\n",
      "Poked -5, expected -56, got SInt<32>(-56)\n",
      "Poked -3, expected 95, got SInt<32>(95)\n",
      "Poked 0, expected -41, got SInt<32>(-41)\n",
      "Poked -2, expected 92, got SInt<32>(92)\n",
      "Poked -2, expected 71, got SInt<32>(71)\n",
      "Poked -7, expected 23, got SInt<32>(23)\n",
      "Poked 0, expected -57, got SInt<32>(-57)\n",
      "Poked 0, expected -68, got SInt<32>(-68)\n",
      "Poked 0, expected -9, got SInt<32>(-9)\n",
      "Poked 0, expected -14, got SInt<32>(-14)\n",
      "Poked 0, expected -37, got SInt<32>(-37)\n",
      "Poked 0, expected -34, got SInt<32>(-34)\n",
      "Poked 0, expected 35, got SInt<32>(35)\n",
      "Poked 0, expected 19, got SInt<32>(19)\n",
      "Poked 0, expected 42, got SInt<32>(42)\n",
      "Poked 0, expected 0, got SInt<32>(0)\n",
      "test GenFirFilter Success: 0 tests passed in 112 cycles in 0.182270 seconds 614.47 Hz\n",
      "\u001b[32m- should respond correctly to a random signed values\u001b[0m\n",
      "[\u001b[35minfo\u001b[0m] [0.000] Elaborating design...\n",
      "[\u001b[35minfo\u001b[0m] [0.064] Done elaborating.\n",
      "Computed transform order in: 69.8 ms\n",
      "Total FIRRTL Compile Time: 29.5 ms\n",
      "file loaded in 0.001692568 seconds, 13 symbols, 10 statements\n",
      "test GenFirFilter Success: 0 tests passed in 1 cycles in 0.010426 seconds 95.91 Hz\n",
      "\u001b[31m- should fail, to show you how it is ! *** FAILED ***\u001b[0m\n",
      "\u001b[31m  io_out=0 did not equal expected=4 (lines in cmd10.sc: 72) (cmd10.sc:72)\u001b[0m\n"
     ]
    }
   ],
   "source": [
    "run(new IntFIRSpec)"
   ]
  },
  {
   "cell_type": "markdown",
   "metadata": {},
   "source": [
    "---\n",
    "# All done!\n",
    "\n",
    "[Return to the top.](#top)"
   ]
  },
  {
   "cell_type": "code",
   "execution_count": null,
   "metadata": {},
   "outputs": [],
   "source": []
  }
 ],
 "metadata": {
  "anaconda-cloud": {},
  "kernelspec": {
   "display_name": "Scala",
   "language": "scala",
   "name": "scala"
  },
  "language_info": {
   "codemirror_mode": "text/x-scala",
   "file_extension": ".scala",
   "mimetype": "text/x-scala",
   "name": "scala",
   "nbconvert_exporter": "script",
   "version": "2.12.10"
  }
 },
 "nbformat": 4,
 "nbformat_minor": 2
}
