{
 "cells": [
  {
   "cell_type": "markdown",
   "metadata": {},
   "source": [
    "<a name=\"top\"></a><img src=\"images/chisel_1024.png\" alt=\"Chisel logo\" style=\"width:480px;\" />"
   ]
  },
  {
   "cell_type": "markdown",
   "metadata": {},
   "source": [
    "# THIS IS A CHISEL DEMONSTRATION FOR TIMA SLS TEAM.\n",
    "# TO EXPERIMENT MORE ABOUT CHISEL, TAKE A LOOK AT [Introduction to Scala](1_intro_to_scala.ipynb)\n",
    "\n",
    "# Chisel Demo\n",
    "**Next: [Introduction à Scala](1_intro_to_scala.ipynb)**\n",
    "\n",
    "Welcome! Perhaps you're an interested student who heard the name \"Chisel\" tossed about, or maybe you're a seasoned hardware design veteran who has been tasked by your manager to explore Chisel as a new HDL alternative. Either way if you are new to Chisel, you want to figure out as fast as possible what all the fuss is about. Look no futher - let's see what Chisel has to offer!\n",
    "\n",
    "## Setup\n",
    "Before we start, we need to download and imports the dependencies needed for the demo. \n",
    "\n",
    "**Please run the following two cell blocks by either pressing SHIFT+ENTER on your keyboard or the Run button in the menu**."
   ]
  },
  {
   "cell_type": "code",
   "execution_count": null,
   "metadata": {
    "scrolled": false
   },
   "outputs": [],
   "source": [
    "val path = System.getProperty(\"user.dir\") + \"/source/load-ivy.sc\"\n",
    "interp.load.module(ammonite.ops.Path(java.nio.file.FileSystems.getDefault().getPath(path)))"
   ]
  },
  {
   "cell_type": "code",
   "execution_count": null,
   "metadata": {},
   "outputs": [],
   "source": [
    "import chisel3._\n",
    "import chisel3.util._\n",
    "import chisel3.experimental._\n",
    "import chisel3.iotesters.{ChiselFlatSpec, Driver, PeekPokeTester}"
   ]
  },
  {
   "cell_type": "markdown",
   "metadata": {
    "collapsed": true
   },
   "source": [
    "## Hardware Generators: Type-Safe Meta-Programming for RTL\n",
    "\n",
    "All hardware description languages support writing single instances of an RTL design - Chisel is no different.\n",
    "In fact, most Verilog/VHDL digital logic designs can be directly transcribed into Chisel!\n",
    "While Chisel provides other awesome features that we will get to, we want to emphasize that users switching to Chisel will retain the exact same degree of control over their design as any other hardware language.\n",
    "\n",
    "Take the following example of a 3-point moving average implemented in the style of a FIR filter.\n",
    "\n",
    "<img src=\"https://raw.githubusercontent.com/freechipsproject/chisel3/master/doc/images/fir_filter.svg?sanitize=true\" width=\"512\" />\n",
    "\n",
    "Chisel provides similar base primitives as synthesizable Verilog and *can* be used as such! Run next cell to declare our Chisel module."
   ]
  },
  {
   "cell_type": "code",
   "execution_count": null,
   "metadata": {},
   "outputs": [],
   "source": [
    "// 3-point moving average implemented in the style of a FIR filter\n",
    "class MovingAverage3(bitWidth: Int) extends Module {\n",
    "  val io = IO(new Bundle {\n",
    "    val in = Input(UInt(bitWidth.W))\n",
    "    val out = Output(UInt(bitWidth.W))\n",
    "  })\n",
    "\n",
    "  val z1 = RegNext(io.in) // Create a register whose input is connected to the argument io.in\n",
    "  val z2 = RegNext(z1)    // Create a register whose input is connected to the argument z1\n",
    "\n",
    "  io.out := (io.in * 1.U) + (z1 * 1.U) + (z2 * 1.U) // `1.U` is an unsigned literal with value 1\n",
    "}"
   ]
  },
  {
   "cell_type": "markdown",
   "metadata": {},
   "source": [
    "After defining `class MovingAverage3`, let's instantiate it and take a look at its structure:"
   ]
  },
  {
   "cell_type": "code",
   "execution_count": null,
   "metadata": {
    "scrolled": true
   },
   "outputs": [],
   "source": [
    "// same 3-point moving average filter as before\n",
    "visualize(() => new MovingAverage3(8))"
   ]
  },
  {
   "cell_type": "markdown",
   "metadata": {},
   "source": [
    "In this visualization of the Chisel instance, the inputs on the left, and the z1 and z2 registers in gold. Both registers and io_in are multiplied by their coefficients and which are then added successively. The `tail` and `bits` elements are used to keep the additions from growing.\n",
    "\n",
    "You may now ask: \"Oh well and good - you can do stuff in Verilog in Chisel, but then why would I want to use Chisel?\"\n",
    "\n",
    "We are so glad you asked! The real power of Chisel comes from the ability to create **generators, not instances**. Suppose instead of only a `MovingAverage3` module, we wanted to create a generic `FIRFilter` module that is parameterized by a list of coefficients.\n",
    "\n",
    "Below we have rewritten `MovingAverage3` to accept into a sequence of coefficients. The number of coefficients will determine the size of the filter."
   ]
  },
  {
   "cell_type": "code",
   "execution_count": null,
   "metadata": {},
   "outputs": [],
   "source": [
    "// Generalized FIR filter parameterized by the convolution coefficients\n",
    "class FirFilter(bitWidth: Int, coeffs: Seq[Int], bin: Boolean=true) extends Module {\n",
    "  val io = IO(new Bundle {\n",
    "    val in = Input(UInt(bitWidth.W))\n",
    "    val out = Output(UInt(bitWidth.W))\n",
    "  })\n",
    "  // Create the serial-in, parallel-out shift register\n",
    "  val zs = Reg(Vec(coeffs.length, UInt(bitWidth.W)))\n",
    "  zs(0) := io.in\n",
    "  for (i <- 1 until coeffs.length) {\n",
    "    zs(i) := zs(i-1)\n",
    "  }\n",
    "\n",
    "  // Do the multiplies\n",
    "  val products = VecInit.tabulate(coeffs.length)(i => zs(i) * coeffs(i).U)\n",
    "\n",
    "  // Sum up the products\n",
    "  if (bin) {  io.out := products.reduceTree(_ +& _) }\n",
    "  else { io.out := products.reduce(_ +& _) }\n",
    "}"
   ]
  },
  {
   "cell_type": "markdown",
   "metadata": {},
   "source": [
    "Now by changing our `coeffs` parameters during instantiation, our `FIRFilter` module can be used to instantiate an endless number of different hardware modules! Below we create the exact same moving average, but in a generic way !"
   ]
  },
  {
   "cell_type": "code",
   "execution_count": null,
   "metadata": {
    "scrolled": true
   },
   "outputs": [],
   "source": [
    "// same 3-point moving average filter as before\n",
    "visualize(() => new FirFilter(8, Seq.fill(3)(1)))"
   ]
  },
  {
   "cell_type": "markdown",
   "metadata": {},
   "source": [
    "## Built-in constructs\n",
    "We can also create two different instances of `FIRFilter`, using a binary reduce tree, or a linear one, with the constructs embedded in Chisel. Here, we show the difference between `reduce` and `reduceTree`, as well as the ease one can evolve its design to match constraints."
   ]
  },
  {
   "cell_type": "code",
   "execution_count": null,
   "metadata": {
    "scrolled": true
   },
   "outputs": [],
   "source": [
    "// same 8 coeffs filter, with and with binary reduce tree\n",
    "visualize(() => new FirFilter(8, Seq.tabulate(8)(x => x%4), true))\n",
    "visualize(() => new FirFilter(8, Seq.tabulate(8)(x => x%4), false))"
   ]
  },
  {
   "cell_type": "markdown",
   "metadata": {},
   "source": [
    "## Type Genericity using Chisel\n",
    "You can also change the **type** of samples in your design, to make a generic FIR filter on any type (here implementing the *Num[T]* trait, i.e. the +, \\*, -, ... operations), with any number of coefficients."
   ]
  },
  {
   "cell_type": "code",
   "execution_count": null,
   "metadata": {
    "scrolled": false
   },
   "outputs": [],
   "source": [
    "// Generalized FIR filter parameterized by the convolution coefficients AND the type of elements !\n",
    "class GenFirFilter[T <: Data with Num[T]](gen: T, coeffs: Seq[Int]) extends Module {\n",
    "  val io = IO(new Bundle {\n",
    "    val in = Input(gen.cloneType)\n",
    "    val out = Output(gen.cloneType)\n",
    "  })\n",
    "  // Create the serial-in, parallel-out shift register\n",
    "  val zs = Reg(Vec(coeffs.length, gen.cloneType))\n",
    "  zs(0) := io.in\n",
    "  for (i <- 1 until coeffs.length) {\n",
    "    zs(i) := zs(i-1)\n",
    "  }\n",
    "\n",
    "  // Do the multiplies\n",
    "  val products = VecInit.tabulate(coeffs.length)(i => zs(i) * coeffs(i).S.asTypeOf(gen))\n",
    "\n",
    "  // Sum up the products\n",
    "  io.out := products.reduceTree(_ + _)\n",
    "}"
   ]
  },
  {
   "cell_type": "markdown",
   "metadata": {},
   "source": [
    "This way, you can define multiple hardware from the same description"
   ]
  },
  {
   "cell_type": "code",
   "execution_count": null,
   "metadata": {
    "scrolled": true
   },
   "outputs": [],
   "source": [
    "// Generic FIR filter, on 8 bit unsigned numbers, 12 bits signed numbers and 16 bits fixed point numbers\n",
    "visualize(() => new GenFirFilter(UInt(8.W), Seq.tabulate(4)(x => x%4)))\n",
    "visualize(() => new GenFirFilter(SInt(12.W), Seq.tabulate(4)(x => x%4)))\n",
    "visualize(() => new GenFirFilter(FixedPoint(16.W, 8.BP), Seq.tabulate(4)(x => x%4)))"
   ]
  },
  {
   "cell_type": "markdown",
   "metadata": {},
   "source": [
    "Without this powerful parameterization, we would need many more module definitions, likely one for each of these FIR filters. Ideally, we want our generators to be (1) composable, (2) powerful, and (3) enable fine-grained control over the generated design.\n",
    "\n",
    "The benefits of Chisel are in how you use it, not in the language itself.\n",
    "If you decide to write instances instead of generators, you will see fewer advantages of Chisel over Verilog.\n",
    "But if you take the time to learn how to write generators, then the power of Chisel will become apparent and you will realize you can never go back to writing Verilog.\n",
    "Learning to write generators is difficult, but we hope this tutorial will pave the way for you to become a better hardware designer, programmer, and thinker!"
   ]
  },
  {
   "cell_type": "markdown",
   "metadata": {},
   "source": [
    "## Testing using Chisel\n",
    "Indeed, easing hardware development is not enough to be broadly accepted as a replacement for usual RTL, such as VHDL, Verilog or SystemVerilog.\n",
    "We need to be able to test our designs, still benefying from Chisel genericity, and from Scala features to build design verification."
   ]
  },
  {
   "cell_type": "markdown",
   "metadata": {},
   "source": [
    "First of all, we need to design a software implementation of the algorithm, for comparison and validation purpose."
   ]
  },
  {
   "cell_type": "code",
   "execution_count": null,
   "metadata": {
    "scrolled": false
   },
   "outputs": [],
   "source": [
    "// Software FIR filter\n",
    "class SoftFirFilter(samples: Seq[Int], coeffs: Seq[Int]) {\n",
    "    private val buffer = Array.fill(coeffs.length)(0)\n",
    "    private var index  = 0\n",
    "    \n",
    "    private def slideWindow: Unit= {\n",
    "        for (i <- buffer.length - 1 to 1 by -1){\n",
    "            buffer(i) = buffer(i-1)\n",
    "        }\n",
    "        buffer(0) = if (index < samples.length) { samples(index) } else { 0 }\n",
    "        index = index + 1\n",
    "    }\n",
    "    \n",
    "    private def apply: Int = {\n",
    "        slideWindow\n",
    "        (buffer zip coeffs).map{case (s, c) => s*c}.reduce(_+_)\n",
    "    }\n",
    "    \n",
    "    def compute: Seq[Int] = {\n",
    "        samples.map(_ => apply) ++ coeffs.map(_ => apply)\n",
    "    }\n",
    "}"
   ]
  },
  {
   "cell_type": "markdown",
   "metadata": {},
   "source": [
    "Then, we can design multiple testers for our design, with different sets of parameters"
   ]
  },
  {
   "cell_type": "code",
   "execution_count": null,
   "metadata": {
    "scrolled": false
   },
   "outputs": [],
   "source": [
    "import org.scalatest._\n",
    "import chiseltest._\n",
    "\n",
    "class IntFIRSpec extends FlatSpec with ChiselScalatestTester with Matchers {\n",
    "    behavior of \"Testers2\"\n",
    "    \n",
    "    val debug = true\n",
    "    \n",
    "    private def runUInt(c: GenFirFilter[UInt], samples: Seq[Int], coeffs: Seq[Int]) = {\n",
    "        val ref = new SoftFirFilter(samples, coeffs).compute\n",
    "        if (debug) { println(ref) }\n",
    "        for(i <- 0 until samples.length) {\n",
    "            c.io.in.poke(samples(i).U)\n",
    "            c.clock.step(1)\n",
    "            c.io.out.expect(ref(i).U)\n",
    "            if (debug) { println(s\"Poked ${samples(i)}, expected ${ref(i)}, got ${c.io.out.peek}\")}\n",
    "           }\n",
    "        // Empty filter\n",
    "        for (i <- 0 until coeffs.length) {\n",
    "            c.clock.step(1)\n",
    "            c.io.out.expect(ref(samples.length+i).U)\n",
    "        }\n",
    "    }\n",
    "    \n",
    "    it should \"respond correctly to a software dirac with UInt values\" in {\n",
    "        val triangle = Seq(1, 2, 3, 2, 1)\n",
    "        val dirac = Seq(1, 0, 0, 0, 0)\n",
    "        test(new GenFirFilter(UInt(32.W), triangle)){\n",
    "            c => runUInt(c, dirac, triangle)\n",
    "        }\n",
    "    }\n",
    "    \n",
    "    it should \"respond correctly to a software step with UInt values\" in {\n",
    "        val triangle = Seq(1, 2, 3, 2, 1)\n",
    "        val step = Seq(0, 1, 1, 1, 1, 1, 1)\n",
    "        test(new GenFirFilter(UInt(32.W), triangle)){\n",
    "            c => runUInt(c, step, triangle)\n",
    "        }\n",
    "    }\n",
    "    \n",
    "    private def runSInt(c: GenFirFilter[SInt], samples: Seq[Int], coeffs: Seq[Int]) = {\n",
    "        val ref = new SoftFirFilter(samples, coeffs).compute\n",
    "        for(i <- 0 until samples.length) {\n",
    "            c.io.in.poke(samples(i).S)\n",
    "            c.clock.step(1)\n",
    "            c.io.out.expect(ref(i).S)\n",
    "            if (debug) { println(s\"Poked ${samples(i)}, expected ${ref(i)}, got ${c.io.out.peek}\")}\n",
    "        }\n",
    "    }\n",
    "    \n",
    "    it should \"respond correctly to a random signed values\" in {\n",
    "        val r = scala.util.Random\n",
    "        val coeffs = Seq.fill(10)(r.nextInt(10)-r.nextInt(10))\n",
    "        val samples = Seq.fill(100)(r.nextInt(10)-r.nextInt(10))\n",
    "        test(new GenFirFilter(SInt(32.W), coeffs)){\n",
    "            c => runSInt(c, samples, coeffs)\n",
    "        }\n",
    "    }\n",
    "    \n",
    "    it should \"fail, to show you how it is !\" in {\n",
    "        test(new GenFirFilter(UInt(32.W), Seq(1, 2))){\n",
    "            c => c.io.out.expect(4.U)\n",
    "        }\n",
    "    }\n",
    "}"
   ]
  },
  {
   "cell_type": "code",
   "execution_count": null,
   "metadata": {
    "scrolled": false
   },
   "outputs": [],
   "source": [
    "run(new IntFIRSpec)"
   ]
  },
  {
   "cell_type": "markdown",
   "metadata": {},
   "source": [
    "---\n",
    "# All done!\n",
    "\n",
    "[Return to the top.](#top)"
   ]
  },
  {
   "cell_type": "code",
   "execution_count": null,
   "metadata": {},
   "outputs": [],
   "source": []
  }
 ],
 "metadata": {
  "anaconda-cloud": {},
  "kernelspec": {
   "display_name": "Scala",
   "language": "scala",
   "name": "scala"
  },
  "language_info": {
   "codemirror_mode": "text/x-scala",
   "file_extension": ".scala",
   "mimetype": "text/x-scala",
   "name": "scala",
   "nbconvert_exporter": "script",
   "version": "2.12.10"
  }
 },
 "nbformat": 4,
 "nbformat_minor": 2
}
